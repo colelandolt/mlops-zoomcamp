{
 "cells": [
  {
   "cell_type": "markdown",
   "id": "c2335323",
   "metadata": {},
   "source": [
    "# 01 Intro Homework\n",
    "The goal of this homework is to train a simple model for predicting the duration of a ride - similar to what we did in this module.\n",
    "\n",
    "## Contents\n",
    "- [Q1. Downloading the data](#q1)\n",
    "- [Q2. Computing duration](#q2)\n",
    "- [Q3. Dropping outliers](#q3)\n",
    "- [Q4. One-hot encoding](#q4)\n",
    "- [Q5. Training a model](#q5)\n",
    "- [Q6. Evaluating the model](#q6)"
   ]
  },
  {
   "cell_type": "code",
   "execution_count": 1,
   "id": "fed8d07d",
   "metadata": {},
   "outputs": [],
   "source": [
    "import pandas as pd\n",
    "import sklearn\n",
    "from sklearn.feature_extraction import DictVectorizer\n",
    "from sklearn.linear_model import LinearRegression\n",
    "from sklearn.metrics import mean_squared_error\n",
    "import seaborn as sns\n",
    "import matplotlib.pyplot as plt"
   ]
  },
  {
   "cell_type": "markdown",
   "id": "164dca36",
   "metadata": {},
   "source": [
    "### Q1. Downloading the data<a id=\"q1\"></a>\n",
    "We'll use the same NYC taxi dataset, but instead of \"Green Taxi Trip Records\", we'll use \"Yellow Taxi Trip Records\".\n",
    "\n",
    "Download the data for January and February 2023.\n",
    "\n",
    "Read the data for January. How many columns are there?"
   ]
  },
  {
   "cell_type": "code",
   "execution_count": 2,
   "id": "9b3dde27",
   "metadata": {},
   "outputs": [
    {
     "name": "stdout",
     "output_type": "stream",
     "text": [
      "There are 19 columns in the January dataset.\n"
     ]
    }
   ],
   "source": [
    "# Read the training set into a dataframe\n",
    "df_train = pd.read_parquet('https://d37ci6vzurychx.cloudfront.net/trip-data/yellow_tripdata_2023-01.parquet')\n",
    "\n",
    "print(f'There are {len(df_train.columns)} columns in the January dataset.')"
   ]
  },
  {
   "cell_type": "markdown",
   "id": "4e9f2ebc",
   "metadata": {},
   "source": [
    "#### Q2. Computing duration<a id=\"q2\"></a>\n",
    "Now let's compute the `duration` variable. It should contain the duration of a ride in minutes.\n",
    "\n",
    "What's the standard deviation of the trips duration in January?"
   ]
  },
  {
   "cell_type": "code",
   "execution_count": 3,
   "id": "83211235",
   "metadata": {},
   "outputs": [
    {
     "name": "stdout",
     "output_type": "stream",
     "text": [
      "The standard deviation of the trips during January is 42.59.\n"
     ]
    }
   ],
   "source": [
    "# Convert datetime columns to datetime\n",
    "df_train[\"tpep_dropoff_datetime\"] = pd.to_datetime(df_train[\"tpep_dropoff_datetime\"])\n",
    "df_train[\"tpep_pickup_datetime\"] = pd.to_datetime(df_train[\"tpep_pickup_datetime\"])\n",
    "\n",
    "# Calculate the trip duration in minutes\n",
    "df_train[\"duration\"] = df_train[\"tpep_dropoff_datetime\"] - df_train[\"tpep_pickup_datetime\"]\n",
    "df_train[\"duration\"] = df_train[\"duration\"].apply(lambda x: x.total_seconds() / 60)\n",
    "\n",
    "print(f'The standard deviation of the trips during January is {df_train[\"duration\"].std():.2f}.')"
   ]
  },
  {
   "cell_type": "markdown",
   "id": "934c4c46",
   "metadata": {},
   "source": [
    "### Q3. Dropping outliers<a id=\"q3\"></a>\n",
    "Next, we need to check the distribution of the duration variable. There are some outliers. Let's remove them and keep only the records where the duration was between 1 and 60 minutes (inclusive).\n",
    "\n",
    "What fraction of the records left after you dropped the outliers?"
   ]
  },
  {
   "cell_type": "code",
   "execution_count": 4,
   "id": "7dd49b5b",
   "metadata": {},
   "outputs": [
    {
     "name": "stdout",
     "output_type": "stream",
     "text": [
      "98.12% of the records remain after filtering for outliers.\n"
     ]
    }
   ],
   "source": [
    "# Calculate the number of records in the raw data\n",
    "raw_len = len(df_train)\n",
    "\n",
    "# Filter out the outliers\n",
    "df_train = df_train[(df_train[\"duration\"] >= 1) & (df_train[\"duration\"] <= 60)]\n",
    "\n",
    "# Calculate the number of records in the filtered data\n",
    "clean_len = len(df_train)\n",
    "\n",
    "print(f'{clean_len / raw_len:.2%} of the records remain after filtering for outliers.')"
   ]
  },
  {
   "cell_type": "markdown",
   "id": "3edd6cc5",
   "metadata": {},
   "source": [
    "### Q4. One-hot encoding<a id=\"q4\"></a>\n",
    "Let's apply one-hot encoding to the pickup and dropoff location IDs. We'll use only these two features for our model.\n",
    "\n",
    "- Turn the dataframe into a list of dictionaries (remember to re-cast the ids to strings - otherwise it will label encode them)\n",
    "- Fit a dictionary vectorizer\n",
    "- Get a feature matrix from it\n",
    "\n",
    "What's the dimensionality of this matrix (number of columns)?"
   ]
  },
  {
   "cell_type": "code",
   "execution_count": 5,
   "id": "2191e962",
   "metadata": {},
   "outputs": [
    {
     "name": "stdout",
     "output_type": "stream",
     "text": [
      "There are 515 features after one-hot encoding.\n"
     ]
    }
   ],
   "source": [
    "# Define the categorical columns\n",
    "categorical = ['PULocationID', 'DOLocationID']\n",
    "\n",
    "# Define the target variable\n",
    "target = \"duration\"\n",
    "\n",
    "# Convert the categorical columns to string\n",
    "df_train[categorical] = df_train[categorical].astype(str)\n",
    "\n",
    "# One-hot encode the categorical columns\n",
    "dv = DictVectorizer()\n",
    "train_dicts = df_train[categorical].to_dict(orient='records')\n",
    "\n",
    "# Initialize the target and features\n",
    "X_train = dv.fit_transform(train_dicts)\n",
    "y_train = df_train[target].values\n",
    "features = dv.feature_names_\n",
    "\n",
    "print(f'There are {len(features)} features after one-hot encoding.')"
   ]
  },
  {
   "cell_type": "markdown",
   "id": "8fb5ce15",
   "metadata": {},
   "source": [
    "### Q5. Training a model<a id=\"q5\"></a>\n",
    "Now let's use the feature matrix from the previous step to train a model.\n",
    "\n",
    "- Train a plain linear regression model with default parameters\n",
    "- Calculate the RMSE of the model on the training data\n",
    "\n",
    "What's the RMSE on train?"
   ]
  },
  {
   "cell_type": "code",
   "execution_count": 6,
   "id": "af6fc34c",
   "metadata": {},
   "outputs": [],
   "source": [
    "# Train the model\n",
    "lr = LinearRegression()\n",
    "lr.fit(X_train, y_train)\n",
    "\n",
    "# Compute the predictions on the training set\n",
    "y_pred = lr.predict(X_train)"
   ]
  },
  {
   "cell_type": "code",
   "execution_count": 7,
   "id": "ac7dfb00",
   "metadata": {},
   "outputs": [
    {
     "data": {
      "image/png": "[encoded data removed]",
      "text/plain": [
       "<Figure size 432x288 with 1 Axes>"
      ]
     },
     "metadata": {
      "needs_background": "light"
     },
     "output_type": "display_data"
    }
   ],
   "source": [
    "# Visualize the Distributions of the predictions and the true labels\n",
    "sns.histplot(y_pred, label=\"actual\", color=\"orange\", kde=True)\n",
    "sns.histplot(y_train, label=\"prediction\", color=\"blue\", kde=True)\n",
    "plt.legend()\n",
    "plt.show()"
   ]
  },
  {
   "cell_type": "code",
   "execution_count": 8,
   "id": "258017db",
   "metadata": {},
   "outputs": [
    {
     "name": "stdout",
     "output_type": "stream",
     "text": [
      "The RMSE of the model on the training set is 7.65 minutes.\n"
     ]
    }
   ],
   "source": [
    "# Calculate the RMSE\n",
    "rmse = mean_squared_error(y_train, y_pred, squared=False)\n",
    "\n",
    "print(f'The RMSE of the model on the training set is {rmse:.2f} minutes.')"
   ]
  },
  {
   "cell_type": "markdown",
   "id": "d012ce95",
   "metadata": {},
   "source": [
    "### Q6. Evaluating the model<a id=\"q6\"></a>\n",
    "Now let's apply this model to the validation dataset (February 2023).\n",
    "\n",
    "What's the RMSE on validation?"
   ]
  },
  {
   "cell_type": "code",
   "execution_count": 9,
   "id": "596c30c0",
   "metadata": {},
   "outputs": [],
   "source": [
    "def preprocessing(file: str, target: str) -> pd.DataFrame:\n",
    "    \"\"\"\n",
    "    Read the parquet file and preprocess it.\n",
    "\n",
    "    Arguments:\n",
    "        file (str): The name of the parquet file to be read.\n",
    "        target (str): The name of the target variable.\n",
    "\n",
    "    Returns:\n",
    "        df (pd.DataFrame): The preprocessed DataFrame.\n",
    "    \"\"\"\n",
    "    # Read the raw data\n",
    "    df = pd.read_parquet(file)\n",
    "\n",
    "    # Convert datetime columns to datetime\n",
    "    df[\"tpep_dropoff_datetime\"] = pd.to_datetime(df[\"tpep_dropoff_datetime\"])\n",
    "    df[\"tpep_pickup_datetime\"] = pd.to_datetime(df[\"tpep_pickup_datetime\"])\n",
    "\n",
    "    # Calculate the trip duration in minutes\n",
    "    df[\"duration\"] = df[\"tpep_dropoff_datetime\"] - df[\"tpep_pickup_datetime\"]\n",
    "    df[\"duration\"] = df[\"duration\"].apply(lambda x: x.total_seconds() / 60)\n",
    "\n",
    "    # Filter out the outliers\n",
    "    df = df[(df[\"duration\"] >= 1) & (df[\"duration\"] <= 60)]\n",
    "\n",
    "    # Convert the categorical columns to string\n",
    "    categorical = ['PULocationID', 'DOLocationID']\n",
    "    df[categorical] = df[categorical].astype(str)\n",
    "\n",
    "    # Return the target and the features\n",
    "    return df[categorical + [target]]"
   ]
  },
  {
   "cell_type": "code",
   "execution_count": 10,
   "id": "cb51386e",
   "metadata": {},
   "outputs": [
    {
     "name": "stdout",
     "output_type": "stream",
     "text": [
      "The RMSE of the model on the validation set is 7.81 minutes.\n"
     ]
    }
   ],
   "source": [
    "# Read the test set into a dataframe\n",
    "df_test = preprocessing(\n",
    "    file='https://d37ci6vzurychx.cloudfront.net/trip-data/yellow_tripdata_2023-02.parquet',\n",
    "    target=target\n",
    ")\n",
    "\n",
    "# One-hot encode the categorical columns\n",
    "df_dict = df_test.to_dict(orient='records')\n",
    "\n",
    "# Initialize the target and features \n",
    "X_test = dv.transform(df_dict)\n",
    "y_test = df_test[target].values\n",
    "\n",
    "# Compute the predictions on the training set\n",
    "y_pred = lr.predict(X_test)\n",
    "\n",
    "# Calculate the RMSE\n",
    "rmse = mean_squared_error(y_test, y_pred, squared=False)\n",
    "\n",
    "print(f'The RMSE of the model on the validation set is {rmse:.2f} minutes.')"
   ]
  }
 ],
 "metadata": {
  "kernelspec": {
   "display_name": "Python 3 (ipykernel)",
   "language": "python",
   "name": "python3"
  }
 },
 "nbformat": 4,
 "nbformat_minor": 5
}
